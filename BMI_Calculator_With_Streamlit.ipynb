{
  "nbformat": 4,
  "nbformat_minor": 0,
  "metadata": {
    "colab": {
      "provenance": [],
      "authorship_tag": "ABX9TyMHGlWPA5mPvv0PQMbZT4uL",
      "include_colab_link": true
    },
    "kernelspec": {
      "name": "python3",
      "display_name": "Python 3"
    },
    "language_info": {
      "name": "python"
    }
  },
  "cells": [
    {
      "cell_type": "markdown",
      "metadata": {
        "id": "view-in-github",
        "colab_type": "text"
      },
      "source": [
        "<a href=\"https://colab.research.google.com/github/HuzaifaH6/BMI-Calculator-Project-With-Streamlit/blob/main/BMI_Calculator_With_Streamlit.ipynb\" target=\"_parent\"><img src=\"https://colab.research.google.com/assets/colab-badge.svg\" alt=\"Open In Colab\"/></a>"
      ]
    },
    {
      "cell_type": "code",
      "execution_count": 1,
      "metadata": {
        "id": "LBwF9ccWL0eF",
        "colab": {
          "base_uri": "https://localhost:8080/"
        },
        "outputId": "eec40f0f-491f-4fea-9533-afc8def16a67"
      },
      "outputs": [
        {
          "output_type": "stream",
          "name": "stdout",
          "text": [
            "\u001b[2K     \u001b[90m━━━━━━━━━━━━━━━━━━━━━━━━━━━━━━━━━━━━━━━━\u001b[0m \u001b[32m44.3/44.3 kB\u001b[0m \u001b[31m847.6 kB/s\u001b[0m eta \u001b[36m0:00:00\u001b[0m\n",
            "\u001b[2K   \u001b[90m━━━━━━━━━━━━━━━━━━━━━━━━━━━━━━━━━━━━━━━━\u001b[0m \u001b[32m9.6/9.6 MB\u001b[0m \u001b[31m18.5 MB/s\u001b[0m eta \u001b[36m0:00:00\u001b[0m\n",
            "\u001b[2K   \u001b[90m━━━━━━━━━━━━━━━━━━━━━━━━━━━━━━━━━━━━━━━━\u001b[0m \u001b[32m6.9/6.9 MB\u001b[0m \u001b[31m30.2 MB/s\u001b[0m eta \u001b[36m0:00:00\u001b[0m\n",
            "\u001b[2K   \u001b[90m━━━━━━━━━━━━━━━━━━━━━━━━━━━━━━━━━━━━━━━━\u001b[0m \u001b[32m79.1/79.1 kB\u001b[0m \u001b[31m5.5 MB/s\u001b[0m eta \u001b[36m0:00:00\u001b[0m\n",
            "\u001b[?25h"
          ]
        }
      ],
      "source": [
        "!pip install streamlit --quiet\n",
        "!pip install pandas --quiet\n",
        "!pip install pyngrok streamlit_colab --quiet"
      ]
    },
    {
      "cell_type": "code",
      "source": [
        "%%writefile app.py\n",
        "\n",
        "import streamlit as st\n",
        "import pandas as pd\n",
        "\n",
        "\n",
        "st.title(\"BMI Calculator\")\n",
        "\n",
        "height = st.slider(\"Select your Height ( cm )\" , 50 , 250 , 150)\n",
        "weight = st.slider(\"Select your Weight ( kg )\",  40 , 150 , 60)\n",
        "\n",
        "bmi =  weight / ((height / 100 ) ** 2 )\n",
        "\n",
        "st.markdown(f\"Your BMI is **{bmi:.1f}** \")\n",
        "\n",
        "if bmi <= 18.5:\n",
        "    st.warning(\"You are **Underweight** 🟡\")\n",
        "elif (18.5 < bmi) and  (bmi < 24.9):\n",
        "    st.success(\"You are **Normal weight** 🟢\")\n",
        "elif (25 <= bmi) and  (bmi < 29.9):\n",
        "    st.warning(\"You are **Overweight** 🟠\")\n",
        "else:\n",
        "    st.error(\"You are **Obese** 🔴\")"
      ],
      "metadata": {
        "colab": {
          "base_uri": "https://localhost:8080/"
        },
        "id": "dY5Rh_A7M3X-",
        "outputId": "794cfd0a-729e-453a-af10-d39a6d8ed9b0"
      },
      "execution_count": 5,
      "outputs": [
        {
          "output_type": "stream",
          "name": "stdout",
          "text": [
            "Overwriting app.py\n"
          ]
        }
      ]
    },
    {
      "cell_type": "code",
      "source": [
        "!pip install ngrok --quiet\n",
        "!ngrok authtoken 2tkuMbpYd4Qn55SyRzQ5XDpZ76X_2HzjScQFwknDZeACxnKmR"
      ],
      "metadata": {
        "id": "hu3Osoc3nMRQ",
        "colab": {
          "base_uri": "https://localhost:8080/"
        },
        "outputId": "dc57c6cb-a9f7-43cc-b326-7ef0915a3bfd"
      },
      "execution_count": 3,
      "outputs": [
        {
          "output_type": "stream",
          "name": "stdout",
          "text": [
            "\u001b[2K   \u001b[90m━━━━━━━━━━━━━━━━━━━━━━━━━━━━━━━━━━━━━━━━\u001b[0m \u001b[32m3.1/3.1 MB\u001b[0m \u001b[31m22.2 MB/s\u001b[0m eta \u001b[36m0:00:00\u001b[0m\n",
            "Authtoken saved to configuration file: /root/.config/ngrok/ngrok.yml\n"
          ]
        }
      ]
    },
    {
      "cell_type": "code",
      "source": [
        "from pyngrok import ngrok\n",
        "\n",
        "!streamlit run app.py &>/dev/null &\n",
        "\n",
        "ngrok.kill()\n",
        "\n",
        "public_url = ngrok.connect(8501)\n",
        "print(f\"🚀 Open the Streamlit app here: {public_url}\")"
      ],
      "metadata": {
        "id": "3Jf5zyjxxI-H",
        "colab": {
          "base_uri": "https://localhost:8080/"
        },
        "outputId": "03a84279-46c5-410d-9657-3a6a38b7cae9"
      },
      "execution_count": 4,
      "outputs": [
        {
          "output_type": "stream",
          "name": "stdout",
          "text": [
            "🚀 Open the Streamlit app here: NgrokTunnel: \"https://675c-35-245-56-243.ngrok-free.app\" -> \"http://localhost:8501\"\n"
          ]
        }
      ]
    },
    {
      "cell_type": "code",
      "source": [
        "#Add an empty code cell here and run it.\n",
        "\n"
      ],
      "metadata": {
        "colab": {
          "base_uri": "https://localhost:8080/"
        },
        "id": "etCFAHW1PHgz",
        "outputId": "637ca98c-e443-4270-96e8-6c8c6ed2b916"
      },
      "execution_count": null,
      "outputs": [
        {
          "output_type": "stream",
          "name": "stderr",
          "text": [
            "UsageError: Line magic function `%%writefile` not found.\n"
          ]
        }
      ]
    }
  ]
}